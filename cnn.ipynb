{
  "nbformat": 4,
  "nbformat_minor": 0,
  "metadata": {
    "colab": {
      "name": "cnn.ipynb",
      "provenance": [],
      "collapsed_sections": [],
      "authorship_tag": "ABX9TyO/227/+OvsKdhWcCOuMoPI",
      "include_colab_link": true
    },
    "kernelspec": {
      "name": "python3",
      "display_name": "Python 3"
    },
    "accelerator": "GPU"
  },
  "cells": [
    {
      "cell_type": "markdown",
      "metadata": {
        "id": "view-in-github",
        "colab_type": "text"
      },
      "source": [
        "<a href=\"https://colab.research.google.com/github/aaaarushi/brain-tumor-classification-example/blob/main/cnn.ipynb\" target=\"_parent\"><img src=\"https://colab.research.google.com/assets/colab-badge.svg\" alt=\"Open In Colab\"/></a>"
      ]
    },
    {
      "cell_type": "code",
      "metadata": {
        "id": "r5wC-2nNSyqJ"
      },
      "source": [
        "import numpy as np # linear algebra\n",
        "import pandas as pd # data processing, CSV file I/O (e.g. pd.read_csv)\n",
        "import matplotlib.pyplot as plt\n",
        "import matplotlib.image as mpimg\n",
        "from PIL import Image\n",
        "from sklearn.model_selection import train_test_split\n",
        "import torch\n",
        "from torch.utils.data import Dataset, DataLoader\n",
        "import torch.nn as nn\n",
        "from torchvision import transforms\n",
        "\n",
        "# getting the data\n",
        "from google.colab import drive\n",
        "drive.mount('/content/drive')\n",
        "path = \"/content/drive/My Drive/Inno Board Resources/Curriculum /CS/ML code/data/Brain Tumor/\"\n",
        "!unzip \"/content/drive/My Drive/Inno Board Resources/Curriculum /CS/ML code/data/Brain Tumor/images.zip\" -d \"/content\""
      ],
      "execution_count": null,
      "outputs": []
    },
    {
      "cell_type": "code",
      "metadata": {
        "id": "lxABTyK-6fUR",
        "colab": {
          "base_uri": "https://localhost:8080/",
          "height": 34
        },
        "outputId": "1416e4fd-e814-476c-b4e8-fcb74192ffa1"
      },
      "source": [
        "use_gpu = True\n",
        "\n",
        "if use_gpu and torch.cuda.is_available():\n",
        "    device = torch.device(\"cuda\")\n",
        "else:\n",
        "    device = torch.device(\"cpu\")\n",
        "\n",
        "print(\"running on device\", device)"
      ],
      "execution_count": null,
      "outputs": [
        {
          "output_type": "stream",
          "text": [
            "running on device cuda\n"
          ],
          "name": "stdout"
        }
      ]
    },
    {
      "cell_type": "code",
      "metadata": {
        "id": "oSrFx_tuT-X1",
        "colab": {
          "base_uri": "https://localhost:8080/",
          "height": 286
        },
        "outputId": "9a2d2f4e-b21d-42a1-d092-ec42a8e1c4d1"
      },
      "source": [
        "raw = pd.read_csv(path + \"Brain Tumor.csv\")\n",
        "raw = raw.to_numpy()\n",
        "\n",
        "N = raw.shape[0]\n",
        "img_size = (3, 160, 160)\n",
        "\n",
        "X_data = np.empty((N, 3, 160, 160))\n",
        "for i in range(N):\n",
        "    img = Image.open(\"/content/images/Image{}.jpg\".format(i+1))\n",
        "    img = img.crop((40, 40, 200, 200))\n",
        "    row = np.array(img)\n",
        "    X_data[i, :] = np.moveaxis(row, -1, 0)\n",
        "\n",
        "X_data = np.array(X_data, dtype='float32')\n",
        "y_data = np.array(raw[:, 1], dtype='int32')\n",
        "\n",
        "img = mpimg.imread(\"/content/images/Image1.jpg\")\n",
        "plt.imshow(img)\n",
        "\n"
      ],
      "execution_count": null,
      "outputs": [
        {
          "output_type": "execute_result",
          "data": {
            "text/plain": [
              "<matplotlib.image.AxesImage at 0x7f07f00e5978>"
            ]
          },
          "metadata": {
            "tags": []
          },
          "execution_count": 3
        },
        {
          "output_type": "display_data",
          "data": {
            "image/png": "[encoded data removed]",
            "text/plain": [
              "<Figure size 432x288 with 1 Axes>"
            ]
          },
          "metadata": {
            "tags": [],
            "needs_background": "light"
          }
        }
      ]
    },
    {
      "cell_type": "code",
      "metadata": {
        "id": "0A8EbrWYULrB"
      },
      "source": [
        "X_trainval, X_test, y_trainval, y_test = train_test_split(X_data, y_data, test_size=0.2)\n",
        "X_train, X_val, y_train, y_val = train_test_split(X_trainval, y_trainval, test_size=0.25)\n",
        "\n",
        "class TrainDataset(Dataset):\n",
        "    def __init__(self):\n",
        "        self.X_data = torch.from_numpy(X_train)\n",
        "        self.y_data = torch.from_numpy(y_train)\n",
        "\n",
        "    def __getitem__(self, index):\n",
        "        return self.X_data[index], self.y_data[index]\n",
        "\n",
        "    def __len__(self):\n",
        "        return len(self.X_data)\n",
        "\n",
        "train_dataset = TrainDataset()\n",
        "train_loader = DataLoader(dataset=train_dataset, batch_size=32, shuffle=True, num_workers=4)\n",
        "\n",
        "X_val = torch.from_numpy(X_val)\n",
        "y_val = torch.from_numpy(y_val)\n",
        "X_test = torch.from_numpy(X_test)\n",
        "y_test = torch.from_numpy(y_test)"
      ],
      "execution_count": null,
      "outputs": []
    },
    {
      "cell_type": "code",
      "metadata": {
        "id": "g-3i8t2DVJIl"
      },
      "source": [
        "def train(model, train_loader, X_val, y_val, lr, mu, epochs=10):\n",
        "    \n",
        "    model = model.to(device=device)\n",
        "\n",
        "    criterion = torch.nn.CrossEntropyLoss()\n",
        "    optimizer = torch.optim.SGD(model.parameters(), lr=lr, momentum=mu)\n",
        "    \n",
        "    print(\"training model with learning rate %s and momentum %s...\" % (lr, mu))\n",
        "    \n",
        "    for epoch in range(epochs):\n",
        "        for it, data in enumerate(train_loader):\n",
        "            X_batch, y_batch = data\n",
        "            X_batch = X_batch.to(device=device, dtype=torch.float32)\n",
        "            y_batch = y_batch.to(device=device, dtype=torch.long)\n",
        "            \n",
        "            model.train()\n",
        "            scores = model(X_batch)\n",
        "            loss = criterion(scores, y_batch)\n",
        "\n",
        "            optimizer.zero_grad()\n",
        "            loss.backward()\n",
        "            optimizer.step()\n",
        "\n",
        "            # print loss and accuracies every 10 iterations\n",
        "            if it % 10 == 0:\n",
        "                print(\"iteration:\", it, \"\\t loss:\", loss.item())\n",
        "                accuracy(model, X_val, y_val, \"validation\")\n",
        "    \n",
        "    \n",
        "def accuracy(model, X, y, data_type):\n",
        "    model.eval()\n",
        "    with torch.no_grad():\n",
        "        X = X.to(device=device, dtype=torch.float32)\n",
        "        y = y.to(device=device, dtype=torch.long)\n",
        "\n",
        "        scores = model(X)\n",
        "        _, y_pred = scores.max(1)\n",
        "        num_correct = torch.sum(y == y_pred)\n",
        "        acc = float(num_correct) / X.shape[0]\n",
        "        print(\"\\t\", data_type, \"accuracy:\", acc)"
      ],
      "execution_count": null,
      "outputs": []
    },
    {
      "cell_type": "code",
      "metadata": {
        "id": "NgG-m4Z6VLJn",
        "colab": {
          "base_uri": "https://localhost:8080/",
          "height": 34
        },
        "outputId": "181da181-a3f7-402f-b78c-89040b656f53"
      },
      "source": [
        "class Flatten(nn.Module):\n",
        "    def forward(self, x):\n",
        "        return x.view(x.shape[0], -1)\n",
        "\n",
        "channels = [32, 64, 128, 64, 32, 16]\n",
        "num_pool = 3\n",
        "final_img_size = int((160 / (2 ** num_pool))**2)\n",
        "\n",
        "model = nn.Sequential(\n",
        "    nn.Conv2d(3, channels[0], (3, 3), padding=1),\n",
        "    nn.ReLU(),\n",
        "    nn.Conv2d(channels[0], channels[1], (3, 3), padding=1),\n",
        "    nn.ReLU(),\n",
        "    nn.MaxPool2d((2, 2), stride=2),\n",
        "    nn.BatchNorm2d(channels[1]),\n",
        "    nn.Conv2d(channels[1], channels[2], (3, 3), padding=1),\n",
        "    nn.ReLU(),\n",
        "    nn.Conv2d(channels[2], channels[3], (3, 3), padding=1),\n",
        "    nn.ReLU(),\n",
        "    nn.MaxPool2d((2, 2), stride=2),\n",
        "    nn.BatchNorm2d(channels[3]),\n",
        "    nn.Conv2d(channels[3], channels[4], (3, 3), padding=1),\n",
        "    nn.ReLU(),\n",
        "    nn.Conv2d(channels[4], channels[5], (3, 3), padding=1),\n",
        "    nn.ReLU(),\n",
        "    nn.MaxPool2d((2, 2), stride=2),\n",
        "    Flatten(),\n",
        "    nn.Linear(channels[5] * final_img_size, 2)\n",
        ")\n",
        "\n",
        "final_img_size"
      ],
      "execution_count": null,
      "outputs": [
        {
          "output_type": "execute_result",
          "data": {
            "text/plain": [
              "400"
            ]
          },
          "metadata": {
            "tags": []
          },
          "execution_count": 11
        }
      ]
    },
    {
      "cell_type": "code",
      "metadata": {
        "id": "JRswrUfaXS71",
        "colab": {
          "base_uri": "https://localhost:8080/",
          "height": 1000
        },
        "outputId": "6e411771-505f-4f86-e616-a1ce528768f9"
      },
      "source": [
        "train(model, train_loader, X_val, y_val, 5e-3, 0.5)"
      ],
      "execution_count": null,
      "outputs": [
        {
          "output_type": "stream",
          "text": [
            "training model with learning rate 0.005 and momentum 0.5...\n",
            "iteration: 0 \t loss: 0.6909938454627991\n",
            "\t validation accuracy: 0.5590969455511288\n",
            "iteration: 10 \t loss: 0.5178089141845703\n",
            "\t validation accuracy: 0.7556440903054449\n",
            "iteration: 20 \t loss: 0.32661348581314087\n",
            "\t validation accuracy: 0.8233731739707836\n",
            "iteration: 30 \t loss: 0.29705822467803955\n",
            "\t validation accuracy: 0.8273572377158035\n",
            "iteration: 40 \t loss: 0.4985441565513611\n",
            "\t validation accuracy: 0.8565737051792829\n",
            "iteration: 50 \t loss: 0.2617220878601074\n",
            "\t validation accuracy: 0.8207171314741036\n",
            "iteration: 60 \t loss: 0.21564005315303802\n",
            "\t validation accuracy: 0.8711819389110226\n",
            "iteration: 70 \t loss: 0.496338814496994\n",
            "\t validation accuracy: 0.8034528552456839\n",
            "iteration: 0 \t loss: 0.4282478988170624\n",
            "\t validation accuracy: 0.8087649402390438\n",
            "iteration: 10 \t loss: 0.2502305209636688\n",
            "\t validation accuracy: 0.8804780876494024\n",
            "iteration: 20 \t loss: 0.23302359879016876\n",
            "\t validation accuracy: 0.8167330677290837\n",
            "iteration: 30 \t loss: 0.1692771315574646\n",
            "\t validation accuracy: 0.8791500664010624\n",
            "iteration: 40 \t loss: 0.2568594515323639\n",
            "\t validation accuracy: 0.8818061088977424\n",
            "iteration: 50 \t loss: 0.1672573983669281\n",
            "\t validation accuracy: 0.8897742363877822\n",
            "iteration: 60 \t loss: 0.314299613237381\n",
            "\t validation accuracy: 0.8326693227091634\n",
            "iteration: 70 \t loss: 0.37528297305107117\n",
            "\t validation accuracy: 0.8326693227091634\n",
            "iteration: 0 \t loss: 0.5818623900413513\n",
            "\t validation accuracy: 0.8950863213811421\n",
            "iteration: 10 \t loss: 0.33236414194107056\n",
            "\t validation accuracy: 0.9070385126162018\n",
            "iteration: 20 \t loss: 0.21275939047336578\n",
            "\t validation accuracy: 0.9057104913678619\n",
            "iteration: 30 \t loss: 0.34501251578330994\n",
            "\t validation accuracy: 0.9083665338645418\n",
            "iteration: 40 \t loss: 0.3596714735031128\n",
            "\t validation accuracy: 0.8897742363877822\n",
            "iteration: 50 \t loss: 0.46328940987586975\n",
            "\t validation accuracy: 0.7782204515272244\n",
            "iteration: 60 \t loss: 0.2904129922389984\n",
            "\t validation accuracy: 0.9176626826029216\n",
            "iteration: 70 \t loss: 0.18076206743717194\n",
            "\t validation accuracy: 0.8167330677290837\n",
            "iteration: 0 \t loss: 0.32986971735954285\n",
            "\t validation accuracy: 0.8764940239043825\n",
            "iteration: 10 \t loss: 0.24558651447296143\n",
            "\t validation accuracy: 0.848605577689243\n",
            "iteration: 20 \t loss: 0.2523837089538574\n",
            "\t validation accuracy: 0.9123505976095617\n",
            "iteration: 30 \t loss: 0.17793497443199158\n",
            "\t validation accuracy: 0.8911022576361222\n",
            "iteration: 40 \t loss: 0.08484400063753128\n",
            "\t validation accuracy: 0.896414342629482\n",
            "iteration: 50 \t loss: 0.1869869977235794\n",
            "\t validation accuracy: 0.8911022576361222\n",
            "iteration: 60 \t loss: 0.2319277971982956\n",
            "\t validation accuracy: 0.9216467463479415\n",
            "iteration: 70 \t loss: 0.1766507774591446\n",
            "\t validation accuracy: 0.9189907038512616\n",
            "iteration: 0 \t loss: 0.1941654235124588\n",
            "\t validation accuracy: 0.9243027888446215\n",
            "iteration: 10 \t loss: 0.14292575418949127\n",
            "\t validation accuracy: 0.8592297476759628\n",
            "iteration: 20 \t loss: 0.2514820098876953\n",
            "\t validation accuracy: 0.9282868525896414\n",
            "iteration: 30 \t loss: 0.13950200378894806\n",
            "\t validation accuracy: 0.8897742363877822\n",
            "iteration: 40 \t loss: 0.23429548740386963\n",
            "\t validation accuracy: 0.8818061088977424\n",
            "iteration: 50 \t loss: 0.297730416059494\n",
            "\t validation accuracy: 0.8950863213811421\n",
            "iteration: 60 \t loss: 0.2891644239425659\n",
            "\t validation accuracy: 0.9282868525896414\n",
            "iteration: 70 \t loss: 0.1486647129058838\n",
            "\t validation accuracy: 0.9096945551128818\n",
            "iteration: 0 \t loss: 0.08081739395856857\n",
            "\t validation accuracy: 0.896414342629482\n",
            "iteration: 10 \t loss: 0.16650550067424774\n",
            "\t validation accuracy: 0.9176626826029216\n",
            "iteration: 20 \t loss: 0.1365698277950287\n",
            "\t validation accuracy: 0.8061088977423638\n",
            "iteration: 30 \t loss: 0.16617098450660706\n",
            "\t validation accuracy: 0.9043824701195219\n",
            "iteration: 40 \t loss: 0.21928571164608002\n",
            "\t validation accuracy: 0.9070385126162018\n",
            "iteration: 50 \t loss: 0.3680705428123474\n",
            "\t validation accuracy: 0.9335989375830013\n",
            "iteration: 60 \t loss: 0.2852797210216522\n",
            "\t validation accuracy: 0.799468791500664\n",
            "iteration: 70 \t loss: 0.08467256277799606\n",
            "\t validation accuracy: 0.8233731739707836\n",
            "iteration: 0 \t loss: 0.2795405685901642\n",
            "\t validation accuracy: 0.8459495351925631\n",
            "iteration: 10 \t loss: 0.09987030178308487\n",
            "\t validation accuracy: 0.8844621513944223\n",
            "iteration: 20 \t loss: 0.22944769263267517\n",
            "\t validation accuracy: 0.9296148738379814\n",
            "iteration: 30 \t loss: 0.38664937019348145\n",
            "\t validation accuracy: 0.9083665338645418\n",
            "iteration: 40 \t loss: 0.18478338420391083\n",
            "\t validation accuracy: 0.9150066401062417\n",
            "iteration: 50 \t loss: 0.1484396904706955\n",
            "\t validation accuracy: 0.9322709163346613\n",
            "iteration: 60 \t loss: 0.1872163712978363\n",
            "\t validation accuracy: 0.9322709163346613\n",
            "iteration: 70 \t loss: 0.11804211884737015\n",
            "\t validation accuracy: 0.897742363877822\n",
            "iteration: 0 \t loss: 0.1682894229888916\n",
            "\t validation accuracy: 0.8326693227091634\n",
            "iteration: 10 \t loss: 0.11871538311243057\n",
            "\t validation accuracy: 0.9362549800796812\n",
            "iteration: 20 \t loss: 0.156468003988266\n",
            "\t validation accuracy: 0.9017264276228419\n",
            "iteration: 30 \t loss: 0.2353440821170807\n",
            "\t validation accuracy: 0.9322709163346613\n",
            "iteration: 40 \t loss: 0.1518547087907791\n",
            "\t validation accuracy: 0.8393094289508632\n",
            "iteration: 50 \t loss: 0.0815952941775322\n",
            "\t validation accuracy: 0.9176626826029216\n",
            "iteration: 60 \t loss: 0.1176675334572792\n",
            "\t validation accuracy: 0.9322709163346613\n",
            "iteration: 70 \t loss: 0.27340054512023926\n",
            "\t validation accuracy: 0.900398406374502\n",
            "iteration: 0 \t loss: 0.1000339612364769\n",
            "\t validation accuracy: 0.8871181938911022\n",
            "iteration: 10 \t loss: 0.08591223508119583\n",
            "\t validation accuracy: 0.9282868525896414\n",
            "iteration: 20 \t loss: 0.06486835330724716\n",
            "\t validation accuracy: 0.9375830013280213\n",
            "iteration: 30 \t loss: 0.12015688419342041\n",
            "\t validation accuracy: 0.9176626826029216\n",
            "iteration: 40 \t loss: 0.11194875836372375\n",
            "\t validation accuracy: 0.8658698539176627\n",
            "iteration: 50 \t loss: 0.15738742053508759\n",
            "\t validation accuracy: 0.9322709163346613\n",
            "iteration: 60 \t loss: 0.13434557616710663\n",
            "\t validation accuracy: 0.9349269588313412\n",
            "iteration: 70 \t loss: 0.09030088037252426\n",
            "\t validation accuracy: 0.9375830013280213\n",
            "iteration: 0 \t loss: 0.19026732444763184\n",
            "\t validation accuracy: 0.9428950863213812\n",
            "iteration: 10 \t loss: 0.09297257661819458\n",
            "\t validation accuracy: 0.9335989375830013\n",
            "iteration: 20 \t loss: 0.11757227033376694\n",
            "\t validation accuracy: 0.9216467463479415\n",
            "iteration: 30 \t loss: 0.09411220997571945\n",
            "\t validation accuracy: 0.9389110225763613\n",
            "iteration: 40 \t loss: 0.10003548115491867\n",
            "\t validation accuracy: 0.9150066401062417\n",
            "iteration: 50 \t loss: 0.135037362575531\n",
            "\t validation accuracy: 0.9017264276228419\n",
            "iteration: 60 \t loss: 0.13340917229652405\n",
            "\t validation accuracy: 0.9282868525896414\n",
            "iteration: 70 \t loss: 0.22586816549301147\n",
            "\t validation accuracy: 0.9362549800796812\n"
          ],
          "name": "stdout"
        }
      ]
    },
    {
      "cell_type": "code",
      "metadata": {
        "id": "M4DV2vAtBg6A",
        "colab": {
          "base_uri": "https://localhost:8080/",
          "height": 51
        },
        "outputId": "95f44a58-b89d-477f-af02-0884cefb20ba"
      },
      "source": [
        "accuracy(model, X_val, y_val, \"validation\")\n",
        "accuracy(model, X_test, y_test, \"test\")"
      ],
      "execution_count": null,
      "outputs": [
        {
          "output_type": "stream",
          "text": [
            "\t validation accuracy: 0.9362549800796812\n",
            "\t test accuracy: 0.9243027888446215\n"
          ],
          "name": "stdout"
        }
      ]
    }
  ]
}